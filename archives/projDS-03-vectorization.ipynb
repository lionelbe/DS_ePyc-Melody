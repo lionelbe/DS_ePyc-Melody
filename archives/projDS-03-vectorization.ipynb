{
 "cells": [
  {
   "cell_type": "markdown",
   "id": "6662ab08",
   "metadata": {},
   "source": [
    "# Recherche de morceaux similaires via les hashtags\n",
    "\n",
    "Dans ce notebook, un nouveau dataframe est constitué à partir du `df_global`,<br> \n",
    "tous les hashtags d'un même morceau `track_id` sont regroupés dans une colonne, nettoyée (stopwords).<br>\n",
    "Les entrées NaN de cette colonne `hashtag_cleaned` sont supprimées (dropna).<br>\n",
    "\n",
    "Puis cette colonne est vectorisée : term frequency, inverse document frequency (tf-idf)<br> \n",
    "\n",
    "Ce qui permet d'effectuer des recherche de similarité par linear_kernel.\n",
    "\n",
    "__Après quelques tests et analyse des résultats, la recherche de similarité est facilitée par une fonction en fin de notebook.__\n",
    "\n",
    "Mais étant donné qu'on ne peut pas mesurer la performance, il est difficile de savoir si c'est beaucoup plus efficace qu'une recherche de chaine de caractère dans la colonne hashtag du dataframe (str.contains(...)).\n",
    "\n",
    "De plus, nous ne connaissons pas les noms des morceaux, ce qui ne permet pas de juger de la pertinence des résultats (nous devons nous fier aux hashtags renseignés par les utilisateurs, ce qui ne garantit aucunement la cohérence du classement et donc du choix / des suggestions parmi ce classement)."
   ]
  },
  {
   "cell_type": "code",
   "execution_count": 1,
   "id": "20fd2025",
   "metadata": {},
   "outputs": [],
   "source": [
    "import pandas as pd\n",
    "import numpy as np\n"
   ]
  },
  {
   "cell_type": "code",
   "execution_count": 2,
   "id": "c83947ea",
   "metadata": {},
   "outputs": [
    {
     "name": "stdout",
     "output_type": "stream",
     "text": [
      "161456 morceaux distincts\n"
     ]
    }
   ],
   "source": [
    "df_global = pd.read_csv(\"df_global.csv\")\n",
    "print(len(df_global['track_id'].unique()), \"morceaux distincts\")"
   ]
  },
  {
   "cell_type": "code",
   "execution_count": 3,
   "id": "7993888e",
   "metadata": {},
   "outputs": [
    {
     "data": {
      "text/html": [
       "<div>\n",
       "<style scoped>\n",
       "    .dataframe tbody tr th:only-of-type {\n",
       "        vertical-align: middle;\n",
       "    }\n",
       "\n",
       "    .dataframe tbody tr th {\n",
       "        vertical-align: top;\n",
       "    }\n",
       "\n",
       "    .dataframe thead th {\n",
       "        text-align: right;\n",
       "    }\n",
       "</style>\n",
       "<table border=\"1\" class=\"dataframe\">\n",
       "  <thead>\n",
       "    <tr style=\"text-align: right;\">\n",
       "      <th></th>\n",
       "      <th>track_id</th>\n",
       "      <th>hashtag</th>\n",
       "    </tr>\n",
       "  </thead>\n",
       "  <tbody>\n",
       "    <tr>\n",
       "      <th>3461919</th>\n",
       "      <td>0000e47c1207e2c637a44753a713456f</td>\n",
       "      <td>rock</td>\n",
       "    </tr>\n",
       "    <tr>\n",
       "      <th>3461920</th>\n",
       "      <td>0000e47c1207e2c637a44753a713456f</td>\n",
       "      <td>pops</td>\n",
       "    </tr>\n",
       "    <tr>\n",
       "      <th>3461921</th>\n",
       "      <td>0000e47c1207e2c637a44753a713456f</td>\n",
       "      <td>70s</td>\n",
       "    </tr>\n",
       "    <tr>\n",
       "      <th>4768742</th>\n",
       "      <td>0000e47c1207e2c637a44753a713456f</td>\n",
       "      <td>music</td>\n",
       "    </tr>\n",
       "    <tr>\n",
       "      <th>4863387</th>\n",
       "      <td>0000e47c1207e2c637a44753a713456f</td>\n",
       "      <td>music</td>\n",
       "    </tr>\n",
       "  </tbody>\n",
       "</table>\n",
       "</div>"
      ],
      "text/plain": [
       "                                 track_id hashtag\n",
       "3461919  0000e47c1207e2c637a44753a713456f    rock\n",
       "3461920  0000e47c1207e2c637a44753a713456f    pops\n",
       "3461921  0000e47c1207e2c637a44753a713456f     70s\n",
       "4768742  0000e47c1207e2c637a44753a713456f   music\n",
       "4863387  0000e47c1207e2c637a44753a713456f   music"
      ]
     },
     "execution_count": 3,
     "metadata": {},
     "output_type": "execute_result"
    }
   ],
   "source": [
    "# avant merge des hashtags (pour rapport)\n",
    "df_global[df_global['track_id']=='0000e47c1207e2c637a44753a713456f'][['track_id', 'hashtag']]\n"
   ]
  },
  {
   "cell_type": "code",
   "execution_count": 4,
   "id": "6c10dcc0",
   "metadata": {},
   "outputs": [],
   "source": [
    "# creation d'un dataframe 1 morceau et tous les hashtags (suppression des doublons id - hashtag)\n",
    "df_vector = df_global[['track_id','hashtag']].drop_duplicates().groupby(['track_id'], as_index = False).agg({'hashtag': ' '.join})"
   ]
  },
  {
   "cell_type": "raw",
   "id": "86b011df",
   "metadata": {},
   "source": [
    "# si besoin de vérifier\n",
    "df_global[df_global['track_id']=='00003213fb3d4959f42e9157b0eda0a5']\n"
   ]
  },
  {
   "cell_type": "code",
   "execution_count": 5,
   "id": "2eaf1043",
   "metadata": {},
   "outputs": [
    {
     "data": {
      "text/html": [
       "<div>\n",
       "<style scoped>\n",
       "    .dataframe tbody tr th:only-of-type {\n",
       "        vertical-align: middle;\n",
       "    }\n",
       "\n",
       "    .dataframe tbody tr th {\n",
       "        vertical-align: top;\n",
       "    }\n",
       "\n",
       "    .dataframe thead th {\n",
       "        text-align: right;\n",
       "    }\n",
       "</style>\n",
       "<table border=\"1\" class=\"dataframe\">\n",
       "  <thead>\n",
       "    <tr style=\"text-align: right;\">\n",
       "      <th></th>\n",
       "      <th>track_id</th>\n",
       "      <th>hashtag</th>\n",
       "    </tr>\n",
       "  </thead>\n",
       "  <tbody>\n",
       "    <tr>\n",
       "      <th>1</th>\n",
       "      <td>0000e47c1207e2c637a44753a713456f</td>\n",
       "      <td>rock pops 70s music</td>\n",
       "    </tr>\n",
       "  </tbody>\n",
       "</table>\n",
       "</div>"
      ],
      "text/plain": [
       "                           track_id              hashtag\n",
       "1  0000e47c1207e2c637a44753a713456f  rock pops 70s music"
      ]
     },
     "execution_count": 5,
     "metadata": {},
     "output_type": "execute_result"
    }
   ],
   "source": [
    "# pour rapport\n",
    "df_vector[df_vector['track_id']=='0000e47c1207e2c637a44753a713456f']"
   ]
  },
  {
   "cell_type": "code",
   "execution_count": 6,
   "id": "68394acf",
   "metadata": {},
   "outputs": [
    {
     "data": {
      "text/html": [
       "<div>\n",
       "<style scoped>\n",
       "    .dataframe tbody tr th:only-of-type {\n",
       "        vertical-align: middle;\n",
       "    }\n",
       "\n",
       "    .dataframe tbody tr th {\n",
       "        vertical-align: top;\n",
       "    }\n",
       "\n",
       "    .dataframe thead th {\n",
       "        text-align: right;\n",
       "    }\n",
       "</style>\n",
       "<table border=\"1\" class=\"dataframe\">\n",
       "  <thead>\n",
       "    <tr style=\"text-align: right;\">\n",
       "      <th></th>\n",
       "      <th>track_id</th>\n",
       "      <th>hashtag</th>\n",
       "    </tr>\n",
       "  </thead>\n",
       "  <tbody>\n",
       "    <tr>\n",
       "      <th>0</th>\n",
       "      <td>00003213fb3d4959f42e9157b0eda0a5</td>\n",
       "      <td>newchristianmusic</td>\n",
       "    </tr>\n",
       "    <tr>\n",
       "      <th>1</th>\n",
       "      <td>0000e47c1207e2c637a44753a713456f</td>\n",
       "      <td>rock pops 70s music</td>\n",
       "    </tr>\n",
       "    <tr>\n",
       "      <th>2</th>\n",
       "      <td>0001dc79946a42fbc837c044be0bdbbc</td>\n",
       "      <td>apt</td>\n",
       "    </tr>\n",
       "    <tr>\n",
       "      <th>3</th>\n",
       "      <td>000248c97c5991b9900360aca97d9879</td>\n",
       "      <td>musicislife disturbed tbfmonline vkscrobbler</td>\n",
       "    </tr>\n",
       "    <tr>\n",
       "      <th>4</th>\n",
       "      <td>00027df4d0bd64108624757fe4cbfe76</td>\n",
       "      <td>radio rock music hardrock</td>\n",
       "    </tr>\n",
       "    <tr>\n",
       "      <th>...</th>\n",
       "      <td>...</td>\n",
       "      <td>...</td>\n",
       "    </tr>\n",
       "    <tr>\n",
       "      <th>161451</th>\n",
       "      <td>fffd293d9450783348d5f9d169ed8abe</td>\n",
       "      <td>hopes</td>\n",
       "    </tr>\n",
       "    <tr>\n",
       "      <th>161452</th>\n",
       "      <td>fffd8d636ba5082a01d9f4127ac17b89</td>\n",
       "      <td>listenlive</td>\n",
       "    </tr>\n",
       "    <tr>\n",
       "      <th>161453</th>\n",
       "      <td>fffd997ff184ba9929358a77644fff6c</td>\n",
       "      <td>musicislife</td>\n",
       "    </tr>\n",
       "    <tr>\n",
       "      <th>161454</th>\n",
       "      <td>fffdf00857154771de0d8479d8341e1e</td>\n",
       "      <td>stonerrock doommetal</td>\n",
       "    </tr>\n",
       "    <tr>\n",
       "      <th>161455</th>\n",
       "      <td>fffef37bec01701ce5f548fbdb26ad8b</td>\n",
       "      <td>musicislife</td>\n",
       "    </tr>\n",
       "  </tbody>\n",
       "</table>\n",
       "<p>161456 rows × 2 columns</p>\n",
       "</div>"
      ],
      "text/plain": [
       "                                track_id  \\\n",
       "0       00003213fb3d4959f42e9157b0eda0a5   \n",
       "1       0000e47c1207e2c637a44753a713456f   \n",
       "2       0001dc79946a42fbc837c044be0bdbbc   \n",
       "3       000248c97c5991b9900360aca97d9879   \n",
       "4       00027df4d0bd64108624757fe4cbfe76   \n",
       "...                                  ...   \n",
       "161451  fffd293d9450783348d5f9d169ed8abe   \n",
       "161452  fffd8d636ba5082a01d9f4127ac17b89   \n",
       "161453  fffd997ff184ba9929358a77644fff6c   \n",
       "161454  fffdf00857154771de0d8479d8341e1e   \n",
       "161455  fffef37bec01701ce5f548fbdb26ad8b   \n",
       "\n",
       "                                             hashtag  \n",
       "0                                  newchristianmusic  \n",
       "1                                rock pops 70s music  \n",
       "2                                                apt  \n",
       "3       musicislife disturbed tbfmonline vkscrobbler  \n",
       "4                          radio rock music hardrock  \n",
       "...                                              ...  \n",
       "161451                                         hopes  \n",
       "161452                                    listenlive  \n",
       "161453                                   musicislife  \n",
       "161454                          stonerrock doommetal  \n",
       "161455                                   musicislife  \n",
       "\n",
       "[161456 rows x 2 columns]"
      ]
     },
     "execution_count": 6,
     "metadata": {},
     "output_type": "execute_result"
    }
   ],
   "source": [
    "df_vector"
   ]
  },
  {
   "cell_type": "code",
   "execution_count": 7,
   "id": "3eb308b5",
   "metadata": {},
   "outputs": [
    {
     "name": "stderr",
     "output_type": "stream",
     "text": [
      "[nltk_data] Downloading package stopwords to\n",
      "[nltk_data]     C:\\Users\\A454131\\AppData\\Roaming\\nltk_data...\n",
      "[nltk_data]   Package stopwords is already up-to-date!\n"
     ]
    },
    {
     "data": {
      "text/plain": [
       "True"
      ]
     },
     "execution_count": 7,
     "metadata": {},
     "output_type": "execute_result"
    }
   ],
   "source": [
    "import nltk\n",
    "nltk.download('stopwords')"
   ]
  },
  {
   "cell_type": "code",
   "execution_count": 8,
   "id": "54f11658",
   "metadata": {},
   "outputs": [],
   "source": [
    "from nltk.corpus import stopwords\n",
    "stop = stopwords.words('english')\n",
    "\n",
    "# ajouter stopwords\n",
    "useless_words = ['listenlive','class95','kiss92','music','6music','234radio',\n",
    "                 'jammin105','radio2','audio5cafe','radio','bbc6music','tweetlink',\n",
    "                 'myplaylist','tbfmonline', 'vkscrobbler', 'wzbt', 'nowlistening',\n",
    "                 'spotify', 'onlineradio', 'tunein'\n",
    "                ]\n",
    "stop.extend(useless_words)"
   ]
  },
  {
   "cell_type": "code",
   "execution_count": 9,
   "id": "5970aedb",
   "metadata": {},
   "outputs": [
    {
     "data": {
      "text/html": [
       "<div>\n",
       "<style scoped>\n",
       "    .dataframe tbody tr th:only-of-type {\n",
       "        vertical-align: middle;\n",
       "    }\n",
       "\n",
       "    .dataframe tbody tr th {\n",
       "        vertical-align: top;\n",
       "    }\n",
       "\n",
       "    .dataframe thead th {\n",
       "        text-align: right;\n",
       "    }\n",
       "</style>\n",
       "<table border=\"1\" class=\"dataframe\">\n",
       "  <thead>\n",
       "    <tr style=\"text-align: right;\">\n",
       "      <th></th>\n",
       "      <th>track_id</th>\n",
       "      <th>hashtag</th>\n",
       "      <th>hashtag_cleaned</th>\n",
       "    </tr>\n",
       "  </thead>\n",
       "  <tbody>\n",
       "    <tr>\n",
       "      <th>1</th>\n",
       "      <td>0000e47c1207e2c637a44753a713456f</td>\n",
       "      <td>rock pops 70s music</td>\n",
       "      <td>rock pops 70s</td>\n",
       "    </tr>\n",
       "    <tr>\n",
       "      <th>3</th>\n",
       "      <td>000248c97c5991b9900360aca97d9879</td>\n",
       "      <td>musicislife disturbed tbfmonline vkscrobbler</td>\n",
       "      <td>musicislife disturbed</td>\n",
       "    </tr>\n",
       "    <tr>\n",
       "      <th>4</th>\n",
       "      <td>00027df4d0bd64108624757fe4cbfe76</td>\n",
       "      <td>radio rock music hardrock</td>\n",
       "      <td>rock hardrock</td>\n",
       "    </tr>\n",
       "    <tr>\n",
       "      <th>5</th>\n",
       "      <td>000359abe73f500143335921d078a7b0</td>\n",
       "      <td>listenlive class95 kiss92 music 6music radiopo...</td>\n",
       "      <td>radiopowermix nowonair tsgonair planet90 niuro...</td>\n",
       "    </tr>\n",
       "    <tr>\n",
       "      <th>7</th>\n",
       "      <td>0003f7b02133154299b9c65215b3ac1e</td>\n",
       "      <td>wzbt</td>\n",
       "      <td>NaN</td>\n",
       "    </tr>\n",
       "    <tr>\n",
       "      <th>...</th>\n",
       "      <td>...</td>\n",
       "      <td>...</td>\n",
       "      <td>...</td>\n",
       "    </tr>\n",
       "    <tr>\n",
       "      <th>161444</th>\n",
       "      <td>fffba65dae0f6f9f27d0f3f128017e6b</td>\n",
       "      <td>listenlive</td>\n",
       "      <td>NaN</td>\n",
       "    </tr>\n",
       "    <tr>\n",
       "      <th>161445</th>\n",
       "      <td>fffc7d4fca481dccf7606c2066677a78</td>\n",
       "      <td>listenlive streetstyleradio 6music bbc6music</td>\n",
       "      <td>streetstyleradio</td>\n",
       "    </tr>\n",
       "    <tr>\n",
       "      <th>161449</th>\n",
       "      <td>fffd0d291f4addb6c4640a0f50d22f3f</td>\n",
       "      <td>hitmusic chicagomusic listenlive hitparty</td>\n",
       "      <td>hitmusic chicagomusic hitparty</td>\n",
       "    </tr>\n",
       "    <tr>\n",
       "      <th>161450</th>\n",
       "      <td>fffd0e6aa371d5d9f325092b4b176a5b</td>\n",
       "      <td>listenlive</td>\n",
       "      <td>NaN</td>\n",
       "    </tr>\n",
       "    <tr>\n",
       "      <th>161452</th>\n",
       "      <td>fffd8d636ba5082a01d9f4127ac17b89</td>\n",
       "      <td>listenlive</td>\n",
       "      <td>NaN</td>\n",
       "    </tr>\n",
       "  </tbody>\n",
       "</table>\n",
       "<p>99782 rows × 3 columns</p>\n",
       "</div>"
      ],
      "text/plain": [
       "                                track_id  \\\n",
       "1       0000e47c1207e2c637a44753a713456f   \n",
       "3       000248c97c5991b9900360aca97d9879   \n",
       "4       00027df4d0bd64108624757fe4cbfe76   \n",
       "5       000359abe73f500143335921d078a7b0   \n",
       "7       0003f7b02133154299b9c65215b3ac1e   \n",
       "...                                  ...   \n",
       "161444  fffba65dae0f6f9f27d0f3f128017e6b   \n",
       "161445  fffc7d4fca481dccf7606c2066677a78   \n",
       "161449  fffd0d291f4addb6c4640a0f50d22f3f   \n",
       "161450  fffd0e6aa371d5d9f325092b4b176a5b   \n",
       "161452  fffd8d636ba5082a01d9f4127ac17b89   \n",
       "\n",
       "                                                  hashtag  \\\n",
       "1                                     rock pops 70s music   \n",
       "3            musicislife disturbed tbfmonline vkscrobbler   \n",
       "4                               radio rock music hardrock   \n",
       "5       listenlive class95 kiss92 music 6music radiopo...   \n",
       "7                                                    wzbt   \n",
       "...                                                   ...   \n",
       "161444                                         listenlive   \n",
       "161445       listenlive streetstyleradio 6music bbc6music   \n",
       "161449          hitmusic chicagomusic listenlive hitparty   \n",
       "161450                                         listenlive   \n",
       "161452                                         listenlive   \n",
       "\n",
       "                                          hashtag_cleaned  \n",
       "1                                           rock pops 70s  \n",
       "3                                   musicislife disturbed  \n",
       "4                                           rock hardrock  \n",
       "5       radiopowermix nowonair tsgonair planet90 niuro...  \n",
       "7                                                     NaN  \n",
       "...                                                   ...  \n",
       "161444                                                NaN  \n",
       "161445                                   streetstyleradio  \n",
       "161449                     hitmusic chicagomusic hitparty  \n",
       "161450                                                NaN  \n",
       "161452                                                NaN  \n",
       "\n",
       "[99782 rows x 3 columns]"
      ]
     },
     "execution_count": 9,
     "metadata": {},
     "output_type": "execute_result"
    }
   ],
   "source": [
    "# hashtag sans les stopwords\n",
    "df_vector['hashtag_cleaned'] = df_vector['hashtag'].apply(lambda x: ' '.join([word for word in x.split() if word not in (stop)]))\n",
    "\n",
    "# remplacer mots vides (espaces) par NaN\n",
    "df_vector['hashtag_cleaned'] = df_vector['hashtag_cleaned'].replace(r'^\\s*$', np.NaN, regex=True)\n",
    "\n",
    "# colonnes différentes\n",
    "df_vector[df_vector['hashtag']!=df_vector['hashtag_cleaned']]\n"
   ]
  },
  {
   "cell_type": "code",
   "execution_count": 10,
   "id": "7154cf56",
   "metadata": {},
   "outputs": [
    {
     "data": {
      "text/html": [
       "<div>\n",
       "<style scoped>\n",
       "    .dataframe tbody tr th:only-of-type {\n",
       "        vertical-align: middle;\n",
       "    }\n",
       "\n",
       "    .dataframe tbody tr th {\n",
       "        vertical-align: top;\n",
       "    }\n",
       "\n",
       "    .dataframe thead th {\n",
       "        text-align: right;\n",
       "    }\n",
       "</style>\n",
       "<table border=\"1\" class=\"dataframe\">\n",
       "  <thead>\n",
       "    <tr style=\"text-align: right;\">\n",
       "      <th></th>\n",
       "      <th>track_id</th>\n",
       "      <th>hashtag</th>\n",
       "      <th>hashtag_cleaned</th>\n",
       "    </tr>\n",
       "  </thead>\n",
       "  <tbody>\n",
       "    <tr>\n",
       "      <th>1</th>\n",
       "      <td>0000e47c1207e2c637a44753a713456f</td>\n",
       "      <td>rock pops 70s music</td>\n",
       "      <td>rock pops 70s</td>\n",
       "    </tr>\n",
       "  </tbody>\n",
       "</table>\n",
       "</div>"
      ],
      "text/plain": [
       "                           track_id              hashtag hashtag_cleaned\n",
       "1  0000e47c1207e2c637a44753a713456f  rock pops 70s music   rock pops 70s"
      ]
     },
     "execution_count": 10,
     "metadata": {},
     "output_type": "execute_result"
    }
   ],
   "source": [
    "# pour rapport\n",
    "df_vector[df_vector['track_id']=='0000e47c1207e2c637a44753a713456f']"
   ]
  },
  {
   "cell_type": "code",
   "execution_count": 11,
   "id": "c085626a",
   "metadata": {},
   "outputs": [],
   "source": [
    "df_vector.dropna(subset=['hashtag_cleaned'], inplace=True)\n",
    "df_vector.drop(columns=['hashtag'], inplace=True)\n",
    "\n",
    "df_vector.reset_index(drop=True, inplace=True)"
   ]
  },
  {
   "cell_type": "raw",
   "id": "37252064",
   "metadata": {},
   "source": [
    "exemple de bug sans le reset index\n",
    "\n",
    "df_vector.iloc[121706]\n",
    "\n",
    "track_id           c0ba6088c63e6e0fc66cfcbd46ee9c7a\n",
    "hashtag_cleaned                  christiantraxalive\n",
    "Name: 121763, dtype: object\n",
    "\n",
    "=> Name = 121763 et non 121706 => la recherche par iloc donnera une erreur dans la fonction utilisée + loin"
   ]
  },
  {
   "cell_type": "code",
   "execution_count": 12,
   "id": "143c9266",
   "metadata": {},
   "outputs": [
    {
     "data": {
      "text/html": [
       "<div>\n",
       "<style scoped>\n",
       "    .dataframe tbody tr th:only-of-type {\n",
       "        vertical-align: middle;\n",
       "    }\n",
       "\n",
       "    .dataframe tbody tr th {\n",
       "        vertical-align: top;\n",
       "    }\n",
       "\n",
       "    .dataframe thead th {\n",
       "        text-align: right;\n",
       "    }\n",
       "</style>\n",
       "<table border=\"1\" class=\"dataframe\">\n",
       "  <thead>\n",
       "    <tr style=\"text-align: right;\">\n",
       "      <th></th>\n",
       "      <th>track_id</th>\n",
       "      <th>hashtag_cleaned</th>\n",
       "    </tr>\n",
       "  </thead>\n",
       "  <tbody>\n",
       "    <tr>\n",
       "      <th>0</th>\n",
       "      <td>00003213fb3d4959f42e9157b0eda0a5</td>\n",
       "      <td>newchristianmusic</td>\n",
       "    </tr>\n",
       "    <tr>\n",
       "      <th>1</th>\n",
       "      <td>0000e47c1207e2c637a44753a713456f</td>\n",
       "      <td>rock pops 70s</td>\n",
       "    </tr>\n",
       "    <tr>\n",
       "      <th>2</th>\n",
       "      <td>0001dc79946a42fbc837c044be0bdbbc</td>\n",
       "      <td>apt</td>\n",
       "    </tr>\n",
       "    <tr>\n",
       "      <th>3</th>\n",
       "      <td>000248c97c5991b9900360aca97d9879</td>\n",
       "      <td>musicislife disturbed</td>\n",
       "    </tr>\n",
       "    <tr>\n",
       "      <th>4</th>\n",
       "      <td>00027df4d0bd64108624757fe4cbfe76</td>\n",
       "      <td>rock hardrock</td>\n",
       "    </tr>\n",
       "    <tr>\n",
       "      <th>...</th>\n",
       "      <td>...</td>\n",
       "      <td>...</td>\n",
       "    </tr>\n",
       "    <tr>\n",
       "      <th>111196</th>\n",
       "      <td>fffd0d291f4addb6c4640a0f50d22f3f</td>\n",
       "      <td>hitmusic chicagomusic hitparty</td>\n",
       "    </tr>\n",
       "    <tr>\n",
       "      <th>111197</th>\n",
       "      <td>fffd293d9450783348d5f9d169ed8abe</td>\n",
       "      <td>hopes</td>\n",
       "    </tr>\n",
       "    <tr>\n",
       "      <th>111198</th>\n",
       "      <td>fffd997ff184ba9929358a77644fff6c</td>\n",
       "      <td>musicislife</td>\n",
       "    </tr>\n",
       "    <tr>\n",
       "      <th>111199</th>\n",
       "      <td>fffdf00857154771de0d8479d8341e1e</td>\n",
       "      <td>stonerrock doommetal</td>\n",
       "    </tr>\n",
       "    <tr>\n",
       "      <th>111200</th>\n",
       "      <td>fffef37bec01701ce5f548fbdb26ad8b</td>\n",
       "      <td>musicislife</td>\n",
       "    </tr>\n",
       "  </tbody>\n",
       "</table>\n",
       "<p>111201 rows × 2 columns</p>\n",
       "</div>"
      ],
      "text/plain": [
       "                                track_id                 hashtag_cleaned\n",
       "0       00003213fb3d4959f42e9157b0eda0a5               newchristianmusic\n",
       "1       0000e47c1207e2c637a44753a713456f                   rock pops 70s\n",
       "2       0001dc79946a42fbc837c044be0bdbbc                             apt\n",
       "3       000248c97c5991b9900360aca97d9879           musicislife disturbed\n",
       "4       00027df4d0bd64108624757fe4cbfe76                   rock hardrock\n",
       "...                                  ...                             ...\n",
       "111196  fffd0d291f4addb6c4640a0f50d22f3f  hitmusic chicagomusic hitparty\n",
       "111197  fffd293d9450783348d5f9d169ed8abe                           hopes\n",
       "111198  fffd997ff184ba9929358a77644fff6c                     musicislife\n",
       "111199  fffdf00857154771de0d8479d8341e1e            stonerrock doommetal\n",
       "111200  fffef37bec01701ce5f548fbdb26ad8b                     musicislife\n",
       "\n",
       "[111201 rows x 2 columns]"
      ]
     },
     "execution_count": 12,
     "metadata": {},
     "output_type": "execute_result"
    }
   ],
   "source": [
    "df_vector"
   ]
  },
  {
   "cell_type": "markdown",
   "id": "8babd9c4",
   "metadata": {},
   "source": [
    "## Vectorisation"
   ]
  },
  {
   "cell_type": "code",
   "execution_count": 13,
   "id": "f57e7c2a",
   "metadata": {},
   "outputs": [
    {
     "data": {
      "text/plain": [
       "(111201, 42281)"
      ]
     },
     "execution_count": 13,
     "metadata": {},
     "output_type": "execute_result"
    }
   ],
   "source": [
    "# matrice de similarité - term frequency, inverse document frequency (tf-idf)\n",
    "from sklearn.feature_extraction.text import TfidfVectorizer\n",
    "\n",
    "tfidf = TfidfVectorizer().fit_transform(df_vector['hashtag_cleaned'])\n",
    "tfidf.shape\n"
   ]
  },
  {
   "cell_type": "raw",
   "id": "1c2fa9ab",
   "metadata": {},
   "source": [
    "# impossible à afficher\n",
    "tfidf.todense()\n",
    "# Unable to allocate 35.0 GiB for an array with shape (111201, 42281) and data type float64"
   ]
  },
  {
   "cell_type": "markdown",
   "id": "65545fd7",
   "metadata": {},
   "source": [
    "### tests et recherches préliminaires"
   ]
  },
  {
   "cell_type": "code",
   "execution_count": 14,
   "id": "8d82931d",
   "metadata": {},
   "outputs": [
    {
     "data": {
      "text/plain": [
       "array([0., 1., 0., ..., 0., 0., 0.])"
      ]
     },
     "execution_count": 14,
     "metadata": {},
     "output_type": "execute_result"
    }
   ],
   "source": [
    "# similarité entre la 2eme entrée tfidf[1] et le reste de la matrice vectorisée\n",
    "from sklearn.metrics.pairwise import linear_kernel\n",
    "hashtag_similarities = linear_kernel(tfidf[1:2], tfidf).flatten()\n",
    "hashtag_similarities"
   ]
  },
  {
   "cell_type": "code",
   "execution_count": 15,
   "id": "126350e8",
   "metadata": {},
   "outputs": [
    {
     "data": {
      "text/plain": [
       "array([    1, 83847, 30054, 44206], dtype=int64)"
      ]
     },
     "execution_count": 15,
     "metadata": {},
     "output_type": "execute_result"
    }
   ],
   "source": [
    "# 5 résultats les plus proches, les plus similaires\n",
    "related_docs_indices = hashtag_similarities.argsort()[:-5:-1]\n",
    "related_docs_indices"
   ]
  },
  {
   "cell_type": "code",
   "execution_count": 16,
   "id": "ac4f0f49",
   "metadata": {},
   "outputs": [
    {
     "data": {
      "text/plain": [
       "track_id           0000e47c1207e2c637a44753a713456f\n",
       "hashtag_cleaned                       rock pops 70s\n",
       "Name: 1, dtype: object"
      ]
     },
     "execution_count": 16,
     "metadata": {},
     "output_type": "execute_result"
    }
   ],
   "source": [
    "# vérification par les hashtags\n",
    "df_vector.iloc[1]"
   ]
  },
  {
   "cell_type": "code",
   "execution_count": 17,
   "id": "e59be8af",
   "metadata": {},
   "outputs": [
    {
     "data": {
      "text/plain": [
       "track_id           c0a3db38bd9f8f8c44ed0c2d0e1b60af\n",
       "hashtag_cleaned                       rock pops 70s\n",
       "Name: 83847, dtype: object"
      ]
     },
     "execution_count": 17,
     "metadata": {},
     "output_type": "execute_result"
    }
   ],
   "source": [
    "# vérification par les hashtags (suite)\n",
    "df_vector.iloc[83847]"
   ]
  },
  {
   "cell_type": "code",
   "execution_count": 18,
   "id": "9563046c",
   "metadata": {},
   "outputs": [
    {
     "data": {
      "text/plain": [
       "track_id           45138db5d3e84a423b12650a0f65d4a6\n",
       "hashtag_cleaned                       rock 70s pops\n",
       "Name: 30054, dtype: object"
      ]
     },
     "execution_count": 18,
     "metadata": {},
     "output_type": "execute_result"
    }
   ],
   "source": [
    "# vérification par les hashtags (suite)\n",
    "df_vector.iloc[30054]"
   ]
  },
  {
   "cell_type": "code",
   "execution_count": 19,
   "id": "3edcd32d",
   "metadata": {},
   "outputs": [
    {
     "data": {
      "text/plain": [
       "track_id           65929a3541868bf88b85bdc16e86e1d0\n",
       "hashtag_cleaned                       rock pops 60s\n",
       "Name: 44206, dtype: object"
      ]
     },
     "execution_count": 19,
     "metadata": {},
     "output_type": "execute_result"
    }
   ],
   "source": [
    "# vérification par les hashtags (suite)\n",
    "df_vector.iloc[44206]"
   ]
  },
  {
   "cell_type": "raw",
   "id": "64b07de5",
   "metadata": {},
   "source": [
    "# aide à la recherche de track_id par hashtag\n",
    "df_vector[df_vector[\"hashtag_cleaned\"].str.contains(\".classical\")]\n"
   ]
  },
  {
   "cell_type": "markdown",
   "id": "f30e73bf",
   "metadata": {},
   "source": [
    "## \"Automatisation\""
   ]
  },
  {
   "cell_type": "code",
   "execution_count": 27,
   "id": "b0d697e8",
   "metadata": {},
   "outputs": [],
   "source": [
    "'''\n",
    "    fonctions utiles\n",
    "'''\n",
    "\n",
    "# renvoie les hashtags de l'index \n",
    "# (si l'index existe dans le dataframe)\n",
    "def get_hashtags_by_index(df_index):\n",
    "    if df_index in df_vector.index:\n",
    "        return df_vector.iloc[df_index]['hashtag_cleaned']\n",
    "    \n",
    "# renvoie les hashtags du track_id\n",
    "# (si le track_id existe dans le dataframe)\n",
    "def get_hashtags_by_track_id(track_id):\n",
    "    if df_vector['track_id'].str.contains(track_id).any():\n",
    "        return df_vector[df_vector['track_id']==track_id]['hashtag_cleaned'].values[0]\n",
    "\n",
    "    \n",
    "# renvoie le track_id de l'index\n",
    "# (si l'index existe dans le dataframe)\n",
    "def get_trackid_by_index(df_index):\n",
    "    if df_index in df_vector.index:\n",
    "        return df_vector.iloc[df_index]['track_id']\n",
    "\n",
    "\n",
    "# renvoie l'index du track_id\n",
    "# (si le track_id existe dans le dataframe)\n",
    "def get_index_by_trackid(track_id):\n",
    "    if df_vector['track_id'].str.contains(track_id).any():\n",
    "        return df_vector.index[df_vector['track_id']==track_id].tolist()[0]\n",
    "\n",
    "# - - - - - - - - - - - - - - - - - - - - - - - - - - - - - - - - \n",
    "\n",
    "\n",
    "'''\n",
    "    recherche nb morceaux similaires à track_id\n",
    "    via la colonne qui regroupe les hashtags\n",
    "'''\n",
    "def similar_tune(track_id, nb):\n",
    "    # recherche de l'index du track_id dans le dataframe\n",
    "    df_index = get_index_by_trackid(track_id)\n",
    "    \n",
    "    # matrice de similarité\n",
    "    hashtag_similarities = linear_kernel(tfidf[df_index:df_index+1], tfidf).flatten()\n",
    "    \n",
    "    # resultats similaires (index)\n",
    "    similar_tunes_idx = hashtag_similarities.argsort()[:-nb-1:-1]\n",
    "    \n",
    "    # conversion au format dataframe (index, track_id, hashtag)\n",
    "    idx_fnd = []\n",
    "    trk_fnd = []\n",
    "    hsh_fnd = []\n",
    "    \n",
    "    for res in similar_tunes_idx:\n",
    "        tune_found = get_trackid_by_index(res)\n",
    "        hashtags_found = get_hashtags_by_index(res)\n",
    "        idx_fnd.append(res)\n",
    "        trk_fnd.append(tune_found)\n",
    "        hsh_fnd.append(get_hashtags_by_index(res))\n",
    "    return pd.DataFrame({'idx' : idx_fnd, 'track_id' : trk_fnd,'hashtags' : hsh_fnd})\n"
   ]
  },
  {
   "cell_type": "code",
   "execution_count": 26,
   "id": "ba70f0ad",
   "metadata": {},
   "outputs": [
    {
     "name": "stdout",
     "output_type": "stream",
     "text": [
      "morceau : [ 83847 ] : track_id = c0a3db38bd9f8f8c44ed0c2d0e1b60af\n",
      "hashtags: rock pops 70s\n",
      "-----------------------------------------------------------------------\n",
      "résultats:\n"
     ]
    },
    {
     "data": {
      "text/html": [
       "<div>\n",
       "<style scoped>\n",
       "    .dataframe tbody tr th:only-of-type {\n",
       "        vertical-align: middle;\n",
       "    }\n",
       "\n",
       "    .dataframe tbody tr th {\n",
       "        vertical-align: top;\n",
       "    }\n",
       "\n",
       "    .dataframe thead th {\n",
       "        text-align: right;\n",
       "    }\n",
       "</style>\n",
       "<table border=\"1\" class=\"dataframe\">\n",
       "  <thead>\n",
       "    <tr style=\"text-align: right;\">\n",
       "      <th></th>\n",
       "      <th>idx</th>\n",
       "      <th>track_id</th>\n",
       "      <th>hashtags</th>\n",
       "    </tr>\n",
       "  </thead>\n",
       "  <tbody>\n",
       "    <tr>\n",
       "      <th>0</th>\n",
       "      <td>1</td>\n",
       "      <td>0000e47c1207e2c637a44753a713456f</td>\n",
       "      <td>rock pops 70s</td>\n",
       "    </tr>\n",
       "    <tr>\n",
       "      <th>1</th>\n",
       "      <td>83847</td>\n",
       "      <td>c0a3db38bd9f8f8c44ed0c2d0e1b60af</td>\n",
       "      <td>rock pops 70s</td>\n",
       "    </tr>\n",
       "    <tr>\n",
       "      <th>2</th>\n",
       "      <td>30054</td>\n",
       "      <td>45138db5d3e84a423b12650a0f65d4a6</td>\n",
       "      <td>rock 70s pops</td>\n",
       "    </tr>\n",
       "    <tr>\n",
       "      <th>3</th>\n",
       "      <td>44206</td>\n",
       "      <td>65929a3541868bf88b85bdc16e86e1d0</td>\n",
       "      <td>rock pops 60s</td>\n",
       "    </tr>\n",
       "    <tr>\n",
       "      <th>4</th>\n",
       "      <td>24288</td>\n",
       "      <td>37bc24b5c16cc1f91a1049d6ebed410b</td>\n",
       "      <td>pops 00s</td>\n",
       "    </tr>\n",
       "    <tr>\n",
       "      <th>5</th>\n",
       "      <td>71372</td>\n",
       "      <td>a4196978d57dd77ce85628bc86cb27d1</td>\n",
       "      <td>rock 70s</td>\n",
       "    </tr>\n",
       "    <tr>\n",
       "      <th>6</th>\n",
       "      <td>60588</td>\n",
       "      <td>8b4146285e3ca27693c3b1cf81851e1c</td>\n",
       "      <td>rock hardrock 70s</td>\n",
       "    </tr>\n",
       "    <tr>\n",
       "      <th>7</th>\n",
       "      <td>43678</td>\n",
       "      <td>646a1e0d1b8ceb54ce87f017d4357071</td>\n",
       "      <td>rock hardrock 70s</td>\n",
       "    </tr>\n",
       "    <tr>\n",
       "      <th>8</th>\n",
       "      <td>1786</td>\n",
       "      <td>03e508ca8989f648f305283100388b6c</td>\n",
       "      <td>rock hardrock 70s</td>\n",
       "    </tr>\n",
       "    <tr>\n",
       "      <th>9</th>\n",
       "      <td>102600</td>\n",
       "      <td>ec3ac9eb8e3df884700b76c70c252b5f</td>\n",
       "      <td>rock hardrock 70s</td>\n",
       "    </tr>\n",
       "  </tbody>\n",
       "</table>\n",
       "</div>"
      ],
      "text/plain": [
       "      idx                          track_id           hashtags\n",
       "0       1  0000e47c1207e2c637a44753a713456f      rock pops 70s\n",
       "1   83847  c0a3db38bd9f8f8c44ed0c2d0e1b60af      rock pops 70s\n",
       "2   30054  45138db5d3e84a423b12650a0f65d4a6      rock 70s pops\n",
       "3   44206  65929a3541868bf88b85bdc16e86e1d0      rock pops 60s\n",
       "4   24288  37bc24b5c16cc1f91a1049d6ebed410b           pops 00s\n",
       "5   71372  a4196978d57dd77ce85628bc86cb27d1           rock 70s\n",
       "6   60588  8b4146285e3ca27693c3b1cf81851e1c  rock hardrock 70s\n",
       "7   43678  646a1e0d1b8ceb54ce87f017d4357071  rock hardrock 70s\n",
       "8    1786  03e508ca8989f648f305283100388b6c  rock hardrock 70s\n",
       "9  102600  ec3ac9eb8e3df884700b76c70c252b5f  rock hardrock 70s"
      ]
     },
     "execution_count": 26,
     "metadata": {},
     "output_type": "execute_result"
    }
   ],
   "source": [
    "# morceau de référence\n",
    "tune = 'c0a3db38bd9f8f8c44ed0c2d0e1b60af'\n",
    "\n",
    "# nb de suggestions souhaitées\n",
    "nb = 10\n",
    "\n",
    "print('morceau : [',get_index_by_trackid(tune), \"] : track_id =\", tune)\n",
    "print('hashtags:',get_hashtags_by_track_id(tune))\n",
    "print('-----------------------------------------------------------------------')\n",
    "print('résultats:')\n",
    "\n",
    "similar_tune(tune,nb)\n"
   ]
  },
  {
   "cell_type": "code",
   "execution_count": 28,
   "id": "2ae57b07",
   "metadata": {},
   "outputs": [
    {
     "name": "stdout",
     "output_type": "stream",
     "text": [
      "morceau : [ 93933 ] : track_id = d801089f2dea97bb0ea5b95c875465e0\n",
      "hashtags: juevesmeloso\n",
      "-----------------------------------------------------------------------\n",
      "résultats:\n"
     ]
    },
    {
     "data": {
      "text/html": [
       "<div>\n",
       "<style scoped>\n",
       "    .dataframe tbody tr th:only-of-type {\n",
       "        vertical-align: middle;\n",
       "    }\n",
       "\n",
       "    .dataframe tbody tr th {\n",
       "        vertical-align: top;\n",
       "    }\n",
       "\n",
       "    .dataframe thead th {\n",
       "        text-align: right;\n",
       "    }\n",
       "</style>\n",
       "<table border=\"1\" class=\"dataframe\">\n",
       "  <thead>\n",
       "    <tr style=\"text-align: right;\">\n",
       "      <th></th>\n",
       "      <th>idx</th>\n",
       "      <th>track_id</th>\n",
       "      <th>hashtags</th>\n",
       "    </tr>\n",
       "  </thead>\n",
       "  <tbody>\n",
       "    <tr>\n",
       "      <th>0</th>\n",
       "      <td>93933</td>\n",
       "      <td>d801089f2dea97bb0ea5b95c875465e0</td>\n",
       "      <td>juevesmeloso</td>\n",
       "    </tr>\n",
       "    <tr>\n",
       "      <th>1</th>\n",
       "      <td>37069</td>\n",
       "      <td>5545075b7f3a0bae8d14c9468b79abe4</td>\n",
       "      <td>streetstyleradio homegrownradio ryanlocker sav...</td>\n",
       "    </tr>\n",
       "    <tr>\n",
       "      <th>2</th>\n",
       "      <td>37058</td>\n",
       "      <td>553e1e757b2d176c973b353e075a3b1d</td>\n",
       "      <td>metalcore</td>\n",
       "    </tr>\n",
       "    <tr>\n",
       "      <th>3</th>\n",
       "      <td>37059</td>\n",
       "      <td>553e4cb281ad399347db86d2bde112db</td>\n",
       "      <td>bristol listeningnow 90smusic bbr bass</td>\n",
       "    </tr>\n",
       "    <tr>\n",
       "      <th>4</th>\n",
       "      <td>37060</td>\n",
       "      <td>553e4f0e9dde8a757e21ce87f7ae8902</td>\n",
       "      <td>love funklove 1rockhour nocturnalclassicswithl...</td>\n",
       "    </tr>\n",
       "  </tbody>\n",
       "</table>\n",
       "</div>"
      ],
      "text/plain": [
       "     idx                          track_id  \\\n",
       "0  93933  d801089f2dea97bb0ea5b95c875465e0   \n",
       "1  37069  5545075b7f3a0bae8d14c9468b79abe4   \n",
       "2  37058  553e1e757b2d176c973b353e075a3b1d   \n",
       "3  37059  553e4cb281ad399347db86d2bde112db   \n",
       "4  37060  553e4f0e9dde8a757e21ce87f7ae8902   \n",
       "\n",
       "                                            hashtags  \n",
       "0                                       juevesmeloso  \n",
       "1  streetstyleradio homegrownradio ryanlocker sav...  \n",
       "2                                          metalcore  \n",
       "3             bristol listeningnow 90smusic bbr bass  \n",
       "4  love funklove 1rockhour nocturnalclassicswithl...  "
      ]
     },
     "execution_count": 28,
     "metadata": {},
     "output_type": "execute_result"
    }
   ],
   "source": [
    "# autres tests\n",
    "\n",
    "# morceau de référence\n",
    "# tune = '00c838d53a639dcd4987fd0f92e5a674' # jazz\n",
    "# tune = '00909a7d394b9aeb5c921c30d61f886f' # punk\n",
    "# tune = '3e9e93051bbb2bc8979e111caa5c044c' # classical\n",
    "\n",
    "# fail\n",
    "tune ='d801089f2dea97bb0ea5b95c875465e0'\n",
    "\n",
    "# nb de suggestions souhaitées\n",
    "nb = 5\n",
    "\n",
    "print('morceau : [',get_index_by_trackid(tune), \"] : track_id =\", tune)\n",
    "print('hashtags:',get_hashtags_by_track_id(tune))\n",
    "print('-----------------------------------------------------------------------')\n",
    "print('résultats:')\n",
    "\n",
    "similar_tune(tune,nb)\n"
   ]
  },
  {
   "cell_type": "code",
   "execution_count": 34,
   "id": "8dfcf3ed",
   "metadata": {},
   "outputs": [
    {
     "name": "stdout",
     "output_type": "stream",
     "text": [
      "morceau : [ 104841 ] : track_id = f16e9029afe5e148d2dffcf88a55603b\n",
      "hashtags: hiltonhead savannah progressiveradio toulouse sanjose phoenix word beatbc ontheair winnipeg belfast brunswick freshlysqueezed yourmusic aracityradio rock itunes metal bringinitback manchester rheims orleans kamloops pittsburgh anchorage takeovertext 2002年の音楽 radiocidadeoficial tocandonacidade fuerzamartes cancióndeviernes cancióndeldía musicislife nanaimo liverpool köln lille tacoma fragradio gaming foofighters turnitup turnup rockon tocando radio98rock brazil atacalaradio allmylife tsgonair rcbs\n",
      "-----------------------------------------------------------------------\n",
      "résultats:\n"
     ]
    },
    {
     "data": {
      "text/html": [
       "<div>\n",
       "<style scoped>\n",
       "    .dataframe tbody tr th:only-of-type {\n",
       "        vertical-align: middle;\n",
       "    }\n",
       "\n",
       "    .dataframe tbody tr th {\n",
       "        vertical-align: top;\n",
       "    }\n",
       "\n",
       "    .dataframe thead th {\n",
       "        text-align: right;\n",
       "    }\n",
       "</style>\n",
       "<table border=\"1\" class=\"dataframe\">\n",
       "  <thead>\n",
       "    <tr style=\"text-align: right;\">\n",
       "      <th></th>\n",
       "      <th>idx</th>\n",
       "      <th>track_id</th>\n",
       "      <th>hashtags</th>\n",
       "    </tr>\n",
       "  </thead>\n",
       "  <tbody>\n",
       "    <tr>\n",
       "      <th>0</th>\n",
       "      <td>104841</td>\n",
       "      <td>f16e9029afe5e148d2dffcf88a55603b</td>\n",
       "      <td>hiltonhead savannah progressiveradio toulouse ...</td>\n",
       "    </tr>\n",
       "    <tr>\n",
       "      <th>1</th>\n",
       "      <td>35674</td>\n",
       "      <td>51f31c2eb4aa9fbfcb9f6ddc6f716416</td>\n",
       "      <td>savannah hiltonhead ontheair belfast brunswick...</td>\n",
       "    </tr>\n",
       "    <tr>\n",
       "      <th>2</th>\n",
       "      <td>65829</td>\n",
       "      <td>9774a311af1b0e64e092e50f4a35ec2a</td>\n",
       "      <td>worldclassmusic savannah hiltonhead auckland b...</td>\n",
       "    </tr>\n",
       "    <tr>\n",
       "      <th>3</th>\n",
       "      <td>108216</td>\n",
       "      <td>f92726d6d470a7f911257132863bdf5c</td>\n",
       "      <td>progressiveradio savannah hiltonhead orleans l...</td>\n",
       "    </tr>\n",
       "    <tr>\n",
       "      <th>4</th>\n",
       "      <td>83168</td>\n",
       "      <td>bf1468972cc9e5360fb681d9c6bceda5</td>\n",
       "      <td>progressiveradio savannah hiltonhead buffalo o...</td>\n",
       "    </tr>\n",
       "  </tbody>\n",
       "</table>\n",
       "</div>"
      ],
      "text/plain": [
       "      idx                          track_id  \\\n",
       "0  104841  f16e9029afe5e148d2dffcf88a55603b   \n",
       "1   35674  51f31c2eb4aa9fbfcb9f6ddc6f716416   \n",
       "2   65829  9774a311af1b0e64e092e50f4a35ec2a   \n",
       "3  108216  f92726d6d470a7f911257132863bdf5c   \n",
       "4   83168  bf1468972cc9e5360fb681d9c6bceda5   \n",
       "\n",
       "                                            hashtags  \n",
       "0  hiltonhead savannah progressiveradio toulouse ...  \n",
       "1  savannah hiltonhead ontheair belfast brunswick...  \n",
       "2  worldclassmusic savannah hiltonhead auckland b...  \n",
       "3  progressiveradio savannah hiltonhead orleans l...  \n",
       "4  progressiveradio savannah hiltonhead buffalo o...  "
      ]
     },
     "execution_count": 34,
     "metadata": {},
     "output_type": "execute_result"
    }
   ],
   "source": [
    "# autres tests\n",
    "\n",
    "# fail\n",
    "tune ='f16e9029afe5e148d2dffcf88a55603b'\n",
    "# get_trackid_by_index(104841)\n",
    "\n",
    "# nb de suggestions souhaitées\n",
    "nb = 5\n",
    "\n",
    "print('morceau : [',get_index_by_trackid(tune), \"] : track_id =\", tune)\n",
    "print('hashtags:',get_hashtags_by_track_id(tune))\n",
    "print('-----------------------------------------------------------------------')\n",
    "print('résultats:')\n",
    "\n",
    "similar_tune(tune,nb)\n"
   ]
  },
  {
   "cell_type": "code",
   "execution_count": 32,
   "id": "2ca48e39",
   "metadata": {},
   "outputs": [
    {
     "name": "stdout",
     "output_type": "stream",
     "text": [
      "morceau : [ 98176 ] : track_id = e1f7ca59eafa1f8c0844b50c2760526c\n",
      "hashtags: listeningto mondaymosh live\n",
      "-----------------------------------------------------------------------\n",
      "résultats:\n"
     ]
    },
    {
     "data": {
      "text/html": [
       "<div>\n",
       "<style scoped>\n",
       "    .dataframe tbody tr th:only-of-type {\n",
       "        vertical-align: middle;\n",
       "    }\n",
       "\n",
       "    .dataframe tbody tr th {\n",
       "        vertical-align: top;\n",
       "    }\n",
       "\n",
       "    .dataframe thead th {\n",
       "        text-align: right;\n",
       "    }\n",
       "</style>\n",
       "<table border=\"1\" class=\"dataframe\">\n",
       "  <thead>\n",
       "    <tr style=\"text-align: right;\">\n",
       "      <th></th>\n",
       "      <th>idx</th>\n",
       "      <th>track_id</th>\n",
       "      <th>hashtags</th>\n",
       "    </tr>\n",
       "  </thead>\n",
       "  <tbody>\n",
       "    <tr>\n",
       "      <th>0</th>\n",
       "      <td>3757</td>\n",
       "      <td>087f3c0fd9b349dce3175c82fe20ac3b</td>\n",
       "      <td>listeningto mondaymosh live</td>\n",
       "    </tr>\n",
       "    <tr>\n",
       "      <th>1</th>\n",
       "      <td>19323</td>\n",
       "      <td>2c5f5215db24b5fb08fc46424551c2c3</td>\n",
       "      <td>listeningto mondaymosh live</td>\n",
       "    </tr>\n",
       "    <tr>\n",
       "      <th>2</th>\n",
       "      <td>34592</td>\n",
       "      <td>4f8ccf0758a8d99cb059de7d9c7c7e81</td>\n",
       "      <td>mondaymosh live listeningto</td>\n",
       "    </tr>\n",
       "    <tr>\n",
       "      <th>3</th>\n",
       "      <td>79041</td>\n",
       "      <td>b581d408305017b123775b8ff19a79b1</td>\n",
       "      <td>listeningto mondaymosh live</td>\n",
       "    </tr>\n",
       "    <tr>\n",
       "      <th>4</th>\n",
       "      <td>98176</td>\n",
       "      <td>e1f7ca59eafa1f8c0844b50c2760526c</td>\n",
       "      <td>listeningto mondaymosh live</td>\n",
       "    </tr>\n",
       "  </tbody>\n",
       "</table>\n",
       "</div>"
      ],
      "text/plain": [
       "     idx                          track_id                     hashtags\n",
       "0   3757  087f3c0fd9b349dce3175c82fe20ac3b  listeningto mondaymosh live\n",
       "1  19323  2c5f5215db24b5fb08fc46424551c2c3  listeningto mondaymosh live\n",
       "2  34592  4f8ccf0758a8d99cb059de7d9c7c7e81  mondaymosh live listeningto\n",
       "3  79041  b581d408305017b123775b8ff19a79b1  listeningto mondaymosh live\n",
       "4  98176  e1f7ca59eafa1f8c0844b50c2760526c  listeningto mondaymosh live"
      ]
     },
     "execution_count": 32,
     "metadata": {},
     "output_type": "execute_result"
    }
   ],
   "source": [
    "# test random\n",
    "tune = df_vector.iloc[np.random.randint(0,len(df_vector.index)+1)].track_id\n",
    "\n",
    "nb = 5\n",
    "\n",
    "print('morceau : [',get_index_by_trackid(tune), \"] : track_id =\", tune)\n",
    "print('hashtags:',get_hashtags_by_track_id(tune))\n",
    "print('-----------------------------------------------------------------------')\n",
    "print('résultats:')\n",
    "\n",
    "similar_tune(tune,nb)\n",
    "\n"
   ]
  }
 ],
 "metadata": {
  "kernelspec": {
   "display_name": "Python 3",
   "language": "python",
   "name": "python3"
  },
  "language_info": {
   "codemirror_mode": {
    "name": "ipython",
    "version": 3
   },
   "file_extension": ".py",
   "mimetype": "text/x-python",
   "name": "python",
   "nbconvert_exporter": "python",
   "pygments_lexer": "ipython3",
   "version": "3.8.8"
  }
 },
 "nbformat": 4,
 "nbformat_minor": 5
}
