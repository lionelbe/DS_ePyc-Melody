{
 "cells": [
  {
   "cell_type": "markdown",
   "id": "6662ab08",
   "metadata": {},
   "source": [
    "# tests\n",
    "Word2vec & Gensim"
   ]
  },
  {
   "cell_type": "code",
   "execution_count": 1,
   "id": "20fd2025",
   "metadata": {},
   "outputs": [],
   "source": [
    "import pandas as pd\n",
    "import numpy as np\n"
   ]
  },
  {
   "cell_type": "code",
   "execution_count": 2,
   "id": "c83947ea",
   "metadata": {},
   "outputs": [
    {
     "name": "stdout",
     "output_type": "stream",
     "text": [
      "161456 morceaux distincts\n"
     ]
    }
   ],
   "source": [
    "df_global = pd.read_csv(\"df_global.csv\")\n",
    "print(len(df_global['track_id'].unique()), \"morceaux distincts\")"
   ]
  },
  {
   "cell_type": "code",
   "execution_count": 3,
   "id": "6c10dcc0",
   "metadata": {},
   "outputs": [],
   "source": [
    "# creation d'un dataframe 1 morceau et tous les hashtags (suppression des doublons id - hashtag)\n",
    "df_vector = df_global[['track_id','hashtag']].drop_duplicates().groupby(['track_id'], as_index = False).agg({'hashtag': ' '.join})"
   ]
  },
  {
   "cell_type": "code",
   "execution_count": 4,
   "id": "68394acf",
   "metadata": {},
   "outputs": [
    {
     "data": {
      "text/html": [
       "<div>\n",
       "<style scoped>\n",
       "    .dataframe tbody tr th:only-of-type {\n",
       "        vertical-align: middle;\n",
       "    }\n",
       "\n",
       "    .dataframe tbody tr th {\n",
       "        vertical-align: top;\n",
       "    }\n",
       "\n",
       "    .dataframe thead th {\n",
       "        text-align: right;\n",
       "    }\n",
       "</style>\n",
       "<table border=\"1\" class=\"dataframe\">\n",
       "  <thead>\n",
       "    <tr style=\"text-align: right;\">\n",
       "      <th></th>\n",
       "      <th>track_id</th>\n",
       "      <th>hashtag</th>\n",
       "    </tr>\n",
       "  </thead>\n",
       "  <tbody>\n",
       "    <tr>\n",
       "      <th>0</th>\n",
       "      <td>00003213fb3d4959f42e9157b0eda0a5</td>\n",
       "      <td>newchristianmusic</td>\n",
       "    </tr>\n",
       "    <tr>\n",
       "      <th>1</th>\n",
       "      <td>0000e47c1207e2c637a44753a713456f</td>\n",
       "      <td>rock pops 70s music</td>\n",
       "    </tr>\n",
       "    <tr>\n",
       "      <th>2</th>\n",
       "      <td>0001dc79946a42fbc837c044be0bdbbc</td>\n",
       "      <td>apt</td>\n",
       "    </tr>\n",
       "    <tr>\n",
       "      <th>3</th>\n",
       "      <td>000248c97c5991b9900360aca97d9879</td>\n",
       "      <td>musicislife disturbed tbfmonline vkscrobbler</td>\n",
       "    </tr>\n",
       "    <tr>\n",
       "      <th>4</th>\n",
       "      <td>00027df4d0bd64108624757fe4cbfe76</td>\n",
       "      <td>radio rock music hardrock</td>\n",
       "    </tr>\n",
       "    <tr>\n",
       "      <th>...</th>\n",
       "      <td>...</td>\n",
       "      <td>...</td>\n",
       "    </tr>\n",
       "    <tr>\n",
       "      <th>161451</th>\n",
       "      <td>fffd293d9450783348d5f9d169ed8abe</td>\n",
       "      <td>hopes</td>\n",
       "    </tr>\n",
       "    <tr>\n",
       "      <th>161452</th>\n",
       "      <td>fffd8d636ba5082a01d9f4127ac17b89</td>\n",
       "      <td>listenlive</td>\n",
       "    </tr>\n",
       "    <tr>\n",
       "      <th>161453</th>\n",
       "      <td>fffd997ff184ba9929358a77644fff6c</td>\n",
       "      <td>musicislife</td>\n",
       "    </tr>\n",
       "    <tr>\n",
       "      <th>161454</th>\n",
       "      <td>fffdf00857154771de0d8479d8341e1e</td>\n",
       "      <td>stonerrock doommetal</td>\n",
       "    </tr>\n",
       "    <tr>\n",
       "      <th>161455</th>\n",
       "      <td>fffef37bec01701ce5f548fbdb26ad8b</td>\n",
       "      <td>musicislife</td>\n",
       "    </tr>\n",
       "  </tbody>\n",
       "</table>\n",
       "<p>161456 rows × 2 columns</p>\n",
       "</div>"
      ],
      "text/plain": [
       "                                track_id  \\\n",
       "0       00003213fb3d4959f42e9157b0eda0a5   \n",
       "1       0000e47c1207e2c637a44753a713456f   \n",
       "2       0001dc79946a42fbc837c044be0bdbbc   \n",
       "3       000248c97c5991b9900360aca97d9879   \n",
       "4       00027df4d0bd64108624757fe4cbfe76   \n",
       "...                                  ...   \n",
       "161451  fffd293d9450783348d5f9d169ed8abe   \n",
       "161452  fffd8d636ba5082a01d9f4127ac17b89   \n",
       "161453  fffd997ff184ba9929358a77644fff6c   \n",
       "161454  fffdf00857154771de0d8479d8341e1e   \n",
       "161455  fffef37bec01701ce5f548fbdb26ad8b   \n",
       "\n",
       "                                             hashtag  \n",
       "0                                  newchristianmusic  \n",
       "1                                rock pops 70s music  \n",
       "2                                                apt  \n",
       "3       musicislife disturbed tbfmonline vkscrobbler  \n",
       "4                          radio rock music hardrock  \n",
       "...                                              ...  \n",
       "161451                                         hopes  \n",
       "161452                                    listenlive  \n",
       "161453                                   musicislife  \n",
       "161454                          stonerrock doommetal  \n",
       "161455                                   musicislife  \n",
       "\n",
       "[161456 rows x 2 columns]"
      ]
     },
     "execution_count": 4,
     "metadata": {},
     "output_type": "execute_result"
    }
   ],
   "source": [
    "df_vector"
   ]
  },
  {
   "cell_type": "code",
   "execution_count": 5,
   "id": "3eb308b5",
   "metadata": {},
   "outputs": [
    {
     "name": "stderr",
     "output_type": "stream",
     "text": [
      "[nltk_data] Downloading package stopwords to\n",
      "[nltk_data]     C:\\Users\\A454131\\AppData\\Roaming\\nltk_data...\n",
      "[nltk_data]   Package stopwords is already up-to-date!\n"
     ]
    },
    {
     "data": {
      "text/plain": [
       "True"
      ]
     },
     "execution_count": 5,
     "metadata": {},
     "output_type": "execute_result"
    }
   ],
   "source": [
    "import nltk\n",
    "nltk.download('stopwords')"
   ]
  },
  {
   "cell_type": "code",
   "execution_count": 6,
   "id": "54f11658",
   "metadata": {},
   "outputs": [],
   "source": [
    "from nltk.corpus import stopwords\n",
    "stop = stopwords.words('english')\n",
    "\n",
    "# ajouter stopwords\n",
    "useless_words = ['listenlive','class95','kiss92','music','6music','234radio',\n",
    "                 'jammin105','radio2','audio5cafe','radio','bbc6music','tweetlink',\n",
    "                 'myplaylist','tbfmonline', 'vkscrobbler', 'wzbt', 'nowlistening',\n",
    "                 'spotify', 'onlineradio', 'tunein', \n",
    "                 # ajout avril 2022\n",
    "                 'hottraxxradio', 'radiokaras', 'itunes', 'nowonair', 'rcbs', 'musicbox', 'radio19', 'radiowivenhoe',\n",
    "                 'listeningnow', 'musiquenonstop', 'anghami', 'tuneinradio', 'radio1', 'barbwiresradio', 'musicislife', \n",
    "                 'radiopowermix', 'yourmusic', 'freshradio'\n",
    "                 'googleplay', 'songoftheday', 'nazaplaylist', 'repost', 'iphone', 'windowsphone', 'android', 'blackberry', \n",
    "                 'ontheair', 'onair', 'listeningto', 'like', 'radio98rock', 'lastfm', 'hgsradio', 'twittamp'\n",
    "                ]\n",
    "stop.extend(useless_words)"
   ]
  },
  {
   "cell_type": "code",
   "execution_count": 7,
   "id": "5970aedb",
   "metadata": {},
   "outputs": [
    {
     "data": {
      "text/html": [
       "<div>\n",
       "<style scoped>\n",
       "    .dataframe tbody tr th:only-of-type {\n",
       "        vertical-align: middle;\n",
       "    }\n",
       "\n",
       "    .dataframe tbody tr th {\n",
       "        vertical-align: top;\n",
       "    }\n",
       "\n",
       "    .dataframe thead th {\n",
       "        text-align: right;\n",
       "    }\n",
       "</style>\n",
       "<table border=\"1\" class=\"dataframe\">\n",
       "  <thead>\n",
       "    <tr style=\"text-align: right;\">\n",
       "      <th></th>\n",
       "      <th>track_id</th>\n",
       "      <th>hashtag</th>\n",
       "      <th>hashtag_cleaned</th>\n",
       "    </tr>\n",
       "  </thead>\n",
       "  <tbody>\n",
       "    <tr>\n",
       "      <th>1</th>\n",
       "      <td>0000e47c1207e2c637a44753a713456f</td>\n",
       "      <td>rock pops 70s music</td>\n",
       "      <td>rock pops 70s</td>\n",
       "    </tr>\n",
       "    <tr>\n",
       "      <th>3</th>\n",
       "      <td>000248c97c5991b9900360aca97d9879</td>\n",
       "      <td>musicislife disturbed tbfmonline vkscrobbler</td>\n",
       "      <td>disturbed</td>\n",
       "    </tr>\n",
       "    <tr>\n",
       "      <th>4</th>\n",
       "      <td>00027df4d0bd64108624757fe4cbfe76</td>\n",
       "      <td>radio rock music hardrock</td>\n",
       "      <td>rock hardrock</td>\n",
       "    </tr>\n",
       "    <tr>\n",
       "      <th>5</th>\n",
       "      <td>000359abe73f500143335921d078a7b0</td>\n",
       "      <td>listenlive class95 kiss92 music 6music radiopo...</td>\n",
       "      <td>tsgonair planet90 niurock radiocidadeoficial t...</td>\n",
       "    </tr>\n",
       "    <tr>\n",
       "      <th>7</th>\n",
       "      <td>0003f7b02133154299b9c65215b3ac1e</td>\n",
       "      <td>wzbt</td>\n",
       "      <td>NaN</td>\n",
       "    </tr>\n",
       "    <tr>\n",
       "      <th>...</th>\n",
       "      <td>...</td>\n",
       "      <td>...</td>\n",
       "      <td>...</td>\n",
       "    </tr>\n",
       "    <tr>\n",
       "      <th>161449</th>\n",
       "      <td>fffd0d291f4addb6c4640a0f50d22f3f</td>\n",
       "      <td>hitmusic chicagomusic listenlive hitparty</td>\n",
       "      <td>hitmusic chicagomusic hitparty</td>\n",
       "    </tr>\n",
       "    <tr>\n",
       "      <th>161450</th>\n",
       "      <td>fffd0e6aa371d5d9f325092b4b176a5b</td>\n",
       "      <td>listenlive</td>\n",
       "      <td>NaN</td>\n",
       "    </tr>\n",
       "    <tr>\n",
       "      <th>161452</th>\n",
       "      <td>fffd8d636ba5082a01d9f4127ac17b89</td>\n",
       "      <td>listenlive</td>\n",
       "      <td>NaN</td>\n",
       "    </tr>\n",
       "    <tr>\n",
       "      <th>161453</th>\n",
       "      <td>fffd997ff184ba9929358a77644fff6c</td>\n",
       "      <td>musicislife</td>\n",
       "      <td>NaN</td>\n",
       "    </tr>\n",
       "    <tr>\n",
       "      <th>161455</th>\n",
       "      <td>fffef37bec01701ce5f548fbdb26ad8b</td>\n",
       "      <td>musicislife</td>\n",
       "      <td>NaN</td>\n",
       "    </tr>\n",
       "  </tbody>\n",
       "</table>\n",
       "<p>118744 rows × 3 columns</p>\n",
       "</div>"
      ],
      "text/plain": [
       "                                track_id  \\\n",
       "1       0000e47c1207e2c637a44753a713456f   \n",
       "3       000248c97c5991b9900360aca97d9879   \n",
       "4       00027df4d0bd64108624757fe4cbfe76   \n",
       "5       000359abe73f500143335921d078a7b0   \n",
       "7       0003f7b02133154299b9c65215b3ac1e   \n",
       "...                                  ...   \n",
       "161449  fffd0d291f4addb6c4640a0f50d22f3f   \n",
       "161450  fffd0e6aa371d5d9f325092b4b176a5b   \n",
       "161452  fffd8d636ba5082a01d9f4127ac17b89   \n",
       "161453  fffd997ff184ba9929358a77644fff6c   \n",
       "161455  fffef37bec01701ce5f548fbdb26ad8b   \n",
       "\n",
       "                                                  hashtag  \\\n",
       "1                                     rock pops 70s music   \n",
       "3            musicislife disturbed tbfmonline vkscrobbler   \n",
       "4                               radio rock music hardrock   \n",
       "5       listenlive class95 kiss92 music 6music radiopo...   \n",
       "7                                                    wzbt   \n",
       "...                                                   ...   \n",
       "161449          hitmusic chicagomusic listenlive hitparty   \n",
       "161450                                         listenlive   \n",
       "161452                                         listenlive   \n",
       "161453                                        musicislife   \n",
       "161455                                        musicislife   \n",
       "\n",
       "                                          hashtag_cleaned  \n",
       "1                                           rock pops 70s  \n",
       "3                                               disturbed  \n",
       "4                                           rock hardrock  \n",
       "5       tsgonair planet90 niurock radiocidadeoficial t...  \n",
       "7                                                     NaN  \n",
       "...                                                   ...  \n",
       "161449                     hitmusic chicagomusic hitparty  \n",
       "161450                                                NaN  \n",
       "161452                                                NaN  \n",
       "161453                                                NaN  \n",
       "161455                                                NaN  \n",
       "\n",
       "[118744 rows x 3 columns]"
      ]
     },
     "execution_count": 7,
     "metadata": {},
     "output_type": "execute_result"
    }
   ],
   "source": [
    "# hashtag sans les stopwords\n",
    "# df_vector['hashtag_cleaned'] = df_vector['hashtag'].apply(lambda x: ' '.join([word for word in x.split() if word not in (stop)]))\n",
    "\n",
    "# hashtag sans les stopwords + nettoyage (suppression des mots caractères spéciaux)\n",
    "\n",
    "import re\n",
    "# re.sub(r\"[^A-Za-z0-9]\", \" \", strng).strip().lower() \n",
    "df_vector['hashtag_cleaned'] = df_vector['hashtag'].apply(lambda x: ' '.join([re.sub(r\"[^A-Za-z0-9]\", \" \", word).strip().lower() for word in x.split() if word not in (stop)]))\n",
    "\n",
    "# remplacer mots vides (espaces) par NaN\n",
    "df_vector['hashtag_cleaned'] = df_vector['hashtag_cleaned'].replace(r'^\\s*$', np.NaN, regex=True)\n",
    "\n",
    "# colonnes différentes\n",
    "df_vector[df_vector['hashtag']!=df_vector['hashtag_cleaned']]\n"
   ]
  },
  {
   "cell_type": "code",
   "execution_count": 8,
   "id": "c085626a",
   "metadata": {},
   "outputs": [],
   "source": [
    "df_vector.dropna(subset=['hashtag_cleaned'], inplace=True)\n",
    "# df_vector.drop(columns=['hashtag'], inplace=True)\n",
    "\n",
    "df_vector.reset_index(drop=True, inplace=True)"
   ]
  },
  {
   "cell_type": "code",
   "execution_count": 9,
   "id": "143c9266",
   "metadata": {},
   "outputs": [
    {
     "data": {
      "text/html": [
       "<div>\n",
       "<style scoped>\n",
       "    .dataframe tbody tr th:only-of-type {\n",
       "        vertical-align: middle;\n",
       "    }\n",
       "\n",
       "    .dataframe tbody tr th {\n",
       "        vertical-align: top;\n",
       "    }\n",
       "\n",
       "    .dataframe thead th {\n",
       "        text-align: right;\n",
       "    }\n",
       "</style>\n",
       "<table border=\"1\" class=\"dataframe\">\n",
       "  <thead>\n",
       "    <tr style=\"text-align: right;\">\n",
       "      <th></th>\n",
       "      <th>track_id</th>\n",
       "      <th>hashtag</th>\n",
       "      <th>hashtag_cleaned</th>\n",
       "    </tr>\n",
       "  </thead>\n",
       "  <tbody>\n",
       "    <tr>\n",
       "      <th>0</th>\n",
       "      <td>00003213fb3d4959f42e9157b0eda0a5</td>\n",
       "      <td>newchristianmusic</td>\n",
       "      <td>newchristianmusic</td>\n",
       "    </tr>\n",
       "    <tr>\n",
       "      <th>1</th>\n",
       "      <td>0000e47c1207e2c637a44753a713456f</td>\n",
       "      <td>rock pops 70s music</td>\n",
       "      <td>rock pops 70s</td>\n",
       "    </tr>\n",
       "    <tr>\n",
       "      <th>2</th>\n",
       "      <td>0001dc79946a42fbc837c044be0bdbbc</td>\n",
       "      <td>apt</td>\n",
       "      <td>apt</td>\n",
       "    </tr>\n",
       "    <tr>\n",
       "      <th>3</th>\n",
       "      <td>000248c97c5991b9900360aca97d9879</td>\n",
       "      <td>musicislife disturbed tbfmonline vkscrobbler</td>\n",
       "      <td>disturbed</td>\n",
       "    </tr>\n",
       "    <tr>\n",
       "      <th>4</th>\n",
       "      <td>00027df4d0bd64108624757fe4cbfe76</td>\n",
       "      <td>radio rock music hardrock</td>\n",
       "      <td>rock hardrock</td>\n",
       "    </tr>\n",
       "    <tr>\n",
       "      <th>...</th>\n",
       "      <td>...</td>\n",
       "      <td>...</td>\n",
       "      <td>...</td>\n",
       "    </tr>\n",
       "    <tr>\n",
       "      <th>98368</th>\n",
       "      <td>fffcb8cf9c5fc962a1d725ed7cc16414</td>\n",
       "      <td>morningplaylist</td>\n",
       "      <td>morningplaylist</td>\n",
       "    </tr>\n",
       "    <tr>\n",
       "      <th>98369</th>\n",
       "      <td>fffcbd587a4b3b465186825dcbe41f72</td>\n",
       "      <td>infidelsoftheworldunite</td>\n",
       "      <td>infidelsoftheworldunite</td>\n",
       "    </tr>\n",
       "    <tr>\n",
       "      <th>98370</th>\n",
       "      <td>fffd0d291f4addb6c4640a0f50d22f3f</td>\n",
       "      <td>hitmusic chicagomusic listenlive hitparty</td>\n",
       "      <td>hitmusic chicagomusic hitparty</td>\n",
       "    </tr>\n",
       "    <tr>\n",
       "      <th>98371</th>\n",
       "      <td>fffd293d9450783348d5f9d169ed8abe</td>\n",
       "      <td>hopes</td>\n",
       "      <td>hopes</td>\n",
       "    </tr>\n",
       "    <tr>\n",
       "      <th>98372</th>\n",
       "      <td>fffdf00857154771de0d8479d8341e1e</td>\n",
       "      <td>stonerrock doommetal</td>\n",
       "      <td>stonerrock doommetal</td>\n",
       "    </tr>\n",
       "  </tbody>\n",
       "</table>\n",
       "<p>98373 rows × 3 columns</p>\n",
       "</div>"
      ],
      "text/plain": [
       "                               track_id  \\\n",
       "0      00003213fb3d4959f42e9157b0eda0a5   \n",
       "1      0000e47c1207e2c637a44753a713456f   \n",
       "2      0001dc79946a42fbc837c044be0bdbbc   \n",
       "3      000248c97c5991b9900360aca97d9879   \n",
       "4      00027df4d0bd64108624757fe4cbfe76   \n",
       "...                                 ...   \n",
       "98368  fffcb8cf9c5fc962a1d725ed7cc16414   \n",
       "98369  fffcbd587a4b3b465186825dcbe41f72   \n",
       "98370  fffd0d291f4addb6c4640a0f50d22f3f   \n",
       "98371  fffd293d9450783348d5f9d169ed8abe   \n",
       "98372  fffdf00857154771de0d8479d8341e1e   \n",
       "\n",
       "                                            hashtag  \\\n",
       "0                                 newchristianmusic   \n",
       "1                               rock pops 70s music   \n",
       "2                                               apt   \n",
       "3      musicislife disturbed tbfmonline vkscrobbler   \n",
       "4                         radio rock music hardrock   \n",
       "...                                             ...   \n",
       "98368                               morningplaylist   \n",
       "98369                       infidelsoftheworldunite   \n",
       "98370     hitmusic chicagomusic listenlive hitparty   \n",
       "98371                                         hopes   \n",
       "98372                          stonerrock doommetal   \n",
       "\n",
       "                      hashtag_cleaned  \n",
       "0                   newchristianmusic  \n",
       "1                       rock pops 70s  \n",
       "2                                 apt  \n",
       "3                           disturbed  \n",
       "4                       rock hardrock  \n",
       "...                               ...  \n",
       "98368                 morningplaylist  \n",
       "98369         infidelsoftheworldunite  \n",
       "98370  hitmusic chicagomusic hitparty  \n",
       "98371                           hopes  \n",
       "98372            stonerrock doommetal  \n",
       "\n",
       "[98373 rows x 3 columns]"
      ]
     },
     "execution_count": 9,
     "metadata": {},
     "output_type": "execute_result"
    }
   ],
   "source": [
    "df_vector"
   ]
  },
  {
   "cell_type": "markdown",
   "id": "cbc70639",
   "metadata": {},
   "source": [
    "## Word2vec"
   ]
  },
  {
   "cell_type": "raw",
   "id": "15da6b1b",
   "metadata": {},
   "source": [
    "cf https://medium.com/p/5970fa56cc92#e71b\n",
    "https://radimrehurek.com/gensim/models/word2vec.html\n",
    "https://www.kdnuggets.com/2020/08/content-based-recommendation-system-word-embeddings.html\n",
    "https://towardsdatascience.com/using-word2vec-for-music-recommendations-bb9649ac2484\n",
    "\n",
    "a creuser : reseau de neurones + word2vec ?\n",
    "    https://datascientest.com/nlp-word-embedding-word2vec"
   ]
  },
  {
   "cell_type": "code",
   "execution_count": 10,
   "id": "e64442ec",
   "metadata": {},
   "outputs": [],
   "source": [
    "sent = [row.split(' ') for row in df_vector['hashtag_cleaned']]"
   ]
  },
  {
   "cell_type": "code",
   "execution_count": 11,
   "id": "47b37642",
   "metadata": {},
   "outputs": [
    {
     "data": {
      "text/plain": [
       "[['newchristianmusic'], ['rock', 'pops', '70s']]"
      ]
     },
     "execution_count": 11,
     "metadata": {},
     "output_type": "execute_result"
    }
   ],
   "source": [
    "sent[:2]"
   ]
  },
  {
   "cell_type": "code",
   "execution_count": 12,
   "id": "5af874cf",
   "metadata": {},
   "outputs": [
    {
     "name": "stderr",
     "output_type": "stream",
     "text": [
      "C:\\confidentiel\\app\\Anaconda3\\lib\\site-packages\\gensim\\similarities\\__init__.py:15: UserWarning: The gensim.similarities.levenshtein submodule is disabled, because the optional Levenshtein package <https://pypi.org/project/python-Levenshtein/> is unavailable. Install Levenhstein (e.g. `pip install python-Levenshtein`) to suppress this warning.\n",
      "  warnings.warn(msg)\n"
     ]
    }
   ],
   "source": [
    "from gensim.models import Word2Vec\n",
    "\n",
    "model_wv = Word2Vec(sent, min_count=1, vector_size= 50, workers=3, window =3, sg = 1)"
   ]
  },
  {
   "cell_type": "code",
   "execution_count": 13,
   "id": "13cd7956",
   "metadata": {},
   "outputs": [
    {
     "data": {
      "text/plain": [
       "[('black', 0.8076562881469727),\n",
       " ('heavymetal', 0.807134747505188),\n",
       " ('guitar', 0.7974579930305481),\n",
       " ('heavennorhell', 0.7944267988204956),\n",
       " ('tsgonair', 0.7924015522003174)]"
      ]
     },
     "execution_count": 13,
     "metadata": {},
     "output_type": "execute_result"
    }
   ],
   "source": [
    "model_wv.wv.most_similar('rock')[:5]"
   ]
  },
  {
   "cell_type": "code",
   "execution_count": 14,
   "id": "7f2b49f9",
   "metadata": {},
   "outputs": [
    {
     "name": "stdout",
     "output_type": "stream",
     "text": [
      "0954d0c4e0fca9d7f829b376044c5d90\n",
      "hiltonhead savannah soundslikemusic kelowna chesapeake roanoke bangor sacramento winnipeg ottawa baltimore kamloops medicinehat palmsprings yonkers murcia fayetteville stpetersburg jackson progressiveradio youngstown sanjose sonoma yuma honolulu foggia paradise indyref hollywood sausalito tempe mesa\n",
      "\n",
      "similarities:\n"
     ]
    },
    {
     "data": {
      "text/plain": [
       "[('metric', 0.9813657402992249),\n",
       " ('nantes', 0.9764925241470337),\n",
       " ('hogwarts', 0.974003255367279),\n",
       " ('stellar', 0.9739423394203186),\n",
       " ('himym', 0.9734715819358826)]"
      ]
     },
     "execution_count": 14,
     "metadata": {},
     "output_type": "execute_result"
    }
   ],
   "source": [
    "import random\n",
    "rand_idx = random.randint(0, df_vector.shape[0])\n",
    "print(df_vector.iloc[rand_idx]['track_id'])\n",
    "print(df_vector.iloc[rand_idx]['hashtag_cleaned'])\n",
    "\n",
    "print('\\nsimilarities:')\n",
    "model_wv.wv.most_similar(df_vector.iloc[rand_idx]['hashtag_cleaned'].split())[:5]"
   ]
  },
  {
   "cell_type": "markdown",
   "id": "76585c5c",
   "metadata": {},
   "source": [
    "## Gensim"
   ]
  },
  {
   "cell_type": "raw",
   "id": "59ee08e7",
   "metadata": {},
   "source": [
    "https://www.youtube.com/watch?v=m20_dfn6tsU\n",
    "\n",
    "https://betterprogramming.pub/introduction-to-gensim-calculating-text-similarity-9e8b55de342d\n",
    "\n",
    "https://radimrehurek.com/gensim/similarities/docsim.html"
   ]
  },
  {
   "cell_type": "code",
   "execution_count": 15,
   "id": "52c40970",
   "metadata": {},
   "outputs": [],
   "source": [
    "from gensim.corpora import Dictionary\n",
    "\n",
    "dictionnary = Dictionary(sent)"
   ]
  },
  {
   "cell_type": "raw",
   "id": "999491f3",
   "metadata": {},
   "source": [
    "# verif\n",
    "print(dictionnary.token2id)"
   ]
  },
  {
   "cell_type": "code",
   "execution_count": 17,
   "id": "152e58c8",
   "metadata": {},
   "outputs": [],
   "source": [
    "# https://tedboy.github.io/nlps/generated/generated/gensim.corpora.Dictionary.doc2bow.html\n",
    "corpus = [dictionnary.doc2bow(text) for text in sent]\n",
    "# id mot, nb de fois que le mot est utilisé\n",
    "# poids ? ordre par poids ?"
   ]
  },
  {
   "cell_type": "code",
   "execution_count": 18,
   "id": "087d9efa",
   "metadata": {},
   "outputs": [
    {
     "data": {
      "text/plain": [
       "[(50, 1), (88, 1)]"
      ]
     },
     "execution_count": 18,
     "metadata": {},
     "output_type": "execute_result"
    }
   ],
   "source": [
    "corpus[10]"
   ]
  },
  {
   "cell_type": "markdown",
   "id": "21671813",
   "metadata": {},
   "source": [
    "### TF-IDF"
   ]
  },
  {
   "cell_type": "code",
   "execution_count": 19,
   "id": "7bca1349",
   "metadata": {},
   "outputs": [],
   "source": [
    "from gensim.models import TfidfModel\n",
    "\n",
    "model_gen = TfidfModel(corpus)\n",
    "\n",
    "# https://www.youtube.com/watch?v=m20_dfn6tsU\n",
    "# mots les + rares ont un poids plus élevé (car plus discriminant)\n",
    "# mots les plus fréquents ont une note plus basse "
   ]
  },
  {
   "cell_type": "code",
   "execution_count": 20,
   "id": "476eb07b",
   "metadata": {},
   "outputs": [],
   "source": [
    "from gensim import similarities\n",
    "index = similarities.SparseMatrixSimilarity(model_gen[corpus], num_features=len(dictionnary))\n",
    "\n",
    "# index similarity"
   ]
  },
  {
   "cell_type": "code",
   "execution_count": 21,
   "id": "5ea0a6b2",
   "metadata": {},
   "outputs": [
    {
     "name": "stdout",
     "output_type": "stream",
     "text": [
      "801f5c5ec00689390e456223257f5b19\n",
      "pvstar  bbb 1111 baseballbear  13  baseballbear\n",
      "\n",
      "similarities:\n",
      "eeaef854a397ec51f6517da6b600a084\n",
      "bbb 1111 baseballbear  13 baseballbear \n"
     ]
    }
   ],
   "source": [
    "import random\n",
    "rand_idx = random.randint(0, df_vector.shape[0])\n",
    "rand_trackid = df_vector.iloc[rand_idx]['track_id']\n",
    "rand_hashtag = df_vector.iloc[rand_idx]['hashtag_cleaned']\n",
    "\n",
    "query = dictionnary.doc2bow(rand_hashtag.split())\n",
    "sims = index[model_gen[query]]\n",
    "docnumber = sorted(enumerate(sims), key=lambda x: x[1], reverse=True)[0][0]\n",
    "\n",
    "print(rand_trackid)\n",
    "print(rand_hashtag)\n",
    "print('\\nsimilarities:')\n",
    "print(df_vector.iloc[docnumber]['track_id'])\n",
    "print(df_vector.iloc[docnumber]['hashtag_cleaned'])"
   ]
  },
  {
   "cell_type": "code",
   "execution_count": 31,
   "id": "beed54c8",
   "metadata": {},
   "outputs": [
    {
     "name": "stdout",
     "output_type": "stream",
     "text": [
      "bf4883f5c63ac3a3b240f7197c6bdcc6\n",
      "country listen kbest957\n",
      "\n",
      "similarities:\n",
      "1b08d53836a26366c68d2247a6f9c193\n",
      "country listen kbest957\n",
      "330fccda327494618dfafd3741d8bfe7\n",
      "country listen kbest957\n",
      "8ba9ed78daafa2604a743bb5a9fac479\n",
      "country listen kbest957\n",
      "bf4883f5c63ac3a3b240f7197c6bdcc6\n",
      "country listen kbest957\n",
      "d4d81d2b7f7d5eb5299cfa40fd40c9d0\n",
      "country listen kbest957\n",
      "ea4a4d807e681d2f9b5ad4a83bce6189\n",
      "country listen kbest957\n",
      "f9eb71fa963417cca59c2490b47de892\n",
      "country listen kbest957\n",
      "0cac31312e8c513273940ba66017f2ab\n",
      "baltimore country listen kbest957\n",
      "0df0cef1dca516f15e03a945518b5c61\n",
      "country listen kbest957 countrymusic\n",
      "25ec4bdda68e2c2e5ef5bad1ee589ae7\n",
      "country listen countrymusic kbest957\n",
      "3deba3aa1851986cfca00929c73d3606\n",
      "country listen countrymusic kbest957\n",
      "44824addcbbd746090b68e90d8449809\n",
      "country listen countrymusic kbest957\n",
      "49c57b8842a0de17246fdb92798f2413\n",
      "country listen countrymusic kbest957\n",
      "80f96286872be03992ec46905c712e47\n",
      "country listen countrymusic kbest957\n",
      "95091358040f6c8885ff8cb74848d7f7\n",
      "country listen countrymusic kbest957\n"
     ]
    }
   ],
   "source": [
    "# multiple similarities \n",
    "rand_idx = random.randint(0, df_vector.shape[0])\n",
    "rand_trackid = df_vector.iloc[rand_idx]['track_id']\n",
    "rand_hashtag = df_vector.iloc[rand_idx]['hashtag_cleaned']\n",
    "\n",
    "query = dictionnary.doc2bow(rand_hashtag.split())\n",
    "sims = index[model_gen[query]]\n",
    "    \n",
    "# nb de morceaux similaires\n",
    "nb_sim = 15\n",
    "doc_sim = sorted(enumerate(sims), key=lambda x: x[1], reverse=True)[:nb_sim]\n",
    "# print(doc_sim)\n",
    "id_sim = [x[0] for x in doc_sim]\n",
    "# print(id_sim)\n",
    "\n",
    "print(rand_trackid)\n",
    "print(rand_hashtag)\n",
    "print('\\nsimilarities:')\n",
    "for i in id_sim:\n",
    "    print(df_vector.iloc[i]['track_id'])\n",
    "    print(df_vector.iloc[i]['hashtag_cleaned'])"
   ]
  },
  {
   "cell_type": "code",
   "execution_count": 32,
   "id": "ea197b9a",
   "metadata": {},
   "outputs": [
    {
     "name": "stdout",
     "output_type": "stream",
     "text": [
      "mots cles : country listen kbest957\n",
      "query : [(148, 1), (701, 1), (719, 1)]\n",
      "mots query : ['kbest957', 'country', 'listen']\n",
      "similarities:  98373\n",
      "15 doc similarities [(10471, 1.0), (19653, 1.0), (53739, 1.0), (73708, 1.0), (81918, 1.0), (90077, 1.0), (96071, 1.0), (4934, 0.92406404), (5449, 0.9050093), (14570, 0.9050093), (23803, 0.9050093), (26371, 0.9050093), (28391, 0.9050093), (49643, 0.9050093), (57288, 0.9050093)]\n",
      "\n",
      "(id,vector) : track_id > hashtags\n",
      "(10471,1.00) : 1b08d53836a26366c68d2247a6f9c193 \t> country listen kbest957\n",
      "(19653,1.00) : 330fccda327494618dfafd3741d8bfe7 \t> country listen kbest957\n",
      "(53739,1.00) : 8ba9ed78daafa2604a743bb5a9fac479 \t> country listen kbest957\n",
      "(73708,1.00) : bf4883f5c63ac3a3b240f7197c6bdcc6 \t> country listen kbest957\n",
      "(81918,1.00) : d4d81d2b7f7d5eb5299cfa40fd40c9d0 \t> country listen kbest957\n",
      "(90077,1.00) : ea4a4d807e681d2f9b5ad4a83bce6189 \t> country listen kbest957\n",
      "(96071,1.00) : f9eb71fa963417cca59c2490b47de892 \t> country listen kbest957\n",
      "(4934,0.92) : 0cac31312e8c513273940ba66017f2ab \t> baltimore country listen kbest957\n",
      "(5449,0.91) : 0df0cef1dca516f15e03a945518b5c61 \t> country listen kbest957 countrymusic\n",
      "(14570,0.91) : 25ec4bdda68e2c2e5ef5bad1ee589ae7 \t> country listen countrymusic kbest957\n",
      "(23803,0.91) : 3deba3aa1851986cfca00929c73d3606 \t> country listen countrymusic kbest957\n",
      "(26371,0.91) : 44824addcbbd746090b68e90d8449809 \t> country listen countrymusic kbest957\n",
      "(28391,0.91) : 49c57b8842a0de17246fdb92798f2413 \t> country listen countrymusic kbest957\n",
      "(49643,0.91) : 80f96286872be03992ec46905c712e47 \t> country listen countrymusic kbest957\n",
      "(57288,0.91) : 95091358040f6c8885ff8cb74848d7f7 \t> country listen countrymusic kbest957\n"
     ]
    }
   ],
   "source": [
    "print(\"mots cles :\",rand_hashtag)\n",
    "# \n",
    "print(\"query :\",query)\n",
    "# > (dictionnary[id], nb)\n",
    "id_query_sim = [x[0] for x in query]\n",
    "dict_sim = [dictionnary[i] for i in id_query_sim]\n",
    "print(\"mots query :\",dict_sim)\n",
    "\n",
    "print(\"similarities: \", len(sims))\n",
    "print(nb_sim, \"doc similarities\", doc_sim)\n",
    "\n",
    "print(\"\\n(id,vector) : track_id > hashtags\")\n",
    "for d in doc_sim:\n",
    "    print('({0},{1:.2f}) : {2} \\t> {3}'.format(d[0], d[1], df_vector.iloc[d[0]]['track_id'], df_vector.iloc[d[0]]['hashtag_cleaned']))\n"
   ]
  },
  {
   "cell_type": "code",
   "execution_count": 33,
   "id": "f9344224",
   "metadata": {},
   "outputs": [
    {
     "data": {
      "image/png": "[encoded data removed]",
      "text/plain": [
       "<Figure size 1440x720 with 1 Axes>"
      ]
     },
     "metadata": {
      "needs_background": "light"
     },
     "output_type": "display_data"
    }
   ],
   "source": [
    "# représentation t-SNE\n",
    "# https://datascientest.com/comprendre-lalgorithme-t-sne-en-3-etapes\n",
    "# https://www.scikit-yb.org/en/latest/api/text/tsne.html\n",
    "\n",
    "from sklearn.manifold import TSNE\n",
    "import matplotlib.pyplot as plt\n",
    "\n",
    "embeddings = TSNE(n_components=2)\n",
    "Y = embeddings.fit_transform(doc_sim)\n",
    "x_coords = Y[:, 0]\n",
    "y_coords = Y[:, 1]\n",
    "\n",
    "plt.figure(figsize=(20,10))\n",
    "plt.scatter(x_coords, y_coords, cmap=plt.cm.Spectral)\n",
    "\n",
    "for d, x, y in zip(doc_sim, x_coords, y_coords):\n",
    "    label = df_vector.iloc[d[0]]['hashtag_cleaned']\n",
    "    plt.annotate(label, xy=(x, y), xytext=(5, 1), textcoords='offset points')\n",
    "\n",
    "plt.show()"
   ]
  },
  {
   "cell_type": "markdown",
   "id": "26cc0a2e",
   "metadata": {},
   "source": [
    "### LSI"
   ]
  },
  {
   "cell_type": "code",
   "execution_count": 25,
   "id": "145f1104",
   "metadata": {},
   "outputs": [],
   "source": [
    "# https://radimrehurek.com/gensim/models/lsimodel.html\n",
    "from gensim.models import LsiModel\n",
    "model_lsi = LsiModel(corpus)"
   ]
  },
  {
   "cell_type": "markdown",
   "id": "3f3ac001",
   "metadata": {},
   "source": [
    "### LDA"
   ]
  },
  {
   "cell_type": "code",
   "execution_count": 26,
   "id": "fe5ae8c7",
   "metadata": {},
   "outputs": [],
   "source": [
    "from gensim.models import LdaModel\n",
    "\n",
    "model_lda = LdaModel(corpus)"
   ]
  },
  {
   "cell_type": "raw",
   "id": "8d487a2f",
   "metadata": {},
   "source": [
    "TODO ? (ou pas)\n",
    "tester de classerles  musiques par styles => cf notebooks nico\n",
    "\n",
    "data = specs\n",
    "target = style de musique\n",
    "\n",
    "train, etc...\n",
    "verif par track_id / hashtags\n",
    "pour voir si ça correpond à un style\n",
    "+ représentation t-SNE\n"
   ]
  }
 ],
 "metadata": {
  "kernelspec": {
   "display_name": "Python 3",
   "language": "python",
   "name": "python3"
  },
  "language_info": {
   "codemirror_mode": {
    "name": "ipython",
    "version": 3
   },
   "file_extension": ".py",
   "mimetype": "text/x-python",
   "name": "python",
   "nbconvert_exporter": "python",
   "pygments_lexer": "ipython3",
   "version": "3.8.8"
  }
 },
 "nbformat": 4,
 "nbformat_minor": 5
}
